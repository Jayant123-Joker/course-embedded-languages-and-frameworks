{
 "cells": [
  {
   "cell_type": "markdown",
   "metadata": {
    "slideshow": {
     "slide_type": "slide"
    }
   },
   "source": [
    "# Languages, Parsing, and Abstract Syntax Trees"
   ]
  },
  {
   "cell_type": "markdown",
   "metadata": {
    "slideshow": {
     "slide_type": "fragment"
    }
   },
   "source": [
    "These notes cover several background concepts, definitions, and constructs that will allow us to describe and reason about programming languages."
   ]
  },
  {
   "cell_type": "markdown",
   "metadata": {
    "slideshow": {
     "slide_type": "slide"
    }
   },
   "source": [
    "## Dependencies"
   ]
  },
  {
   "cell_type": "code",
   "execution_count": 73,
   "metadata": {
    "slideshow": {
     "slide_type": "skip"
    }
   },
   "outputs": [],
   "source": [
    "# Presentation dependencies.\n",
    "%matplotlib inline\n",
    "%config InlineBackend.figure_format='retina'\n",
    "import matplotlib as mp\n",
    "import matplotlib.pyplot as plt\n",
    "from importlib import reload\n",
    "from IPython.display import Image\n",
    "from IPython.display import display_html\n",
    "from IPython.display import display\n",
    "from IPython.display import Math\n",
    "from IPython.display import Latex\n",
    "from IPython.display import HTML\n",
    "\n",
    "# Content dependencies (also reproduced inline).\n",
    "from random import randint\n",
    "from itertools import permutations\n",
    "from functools import reduce\n",
    "from tqdm import tqdm"
   ]
  },
  {
   "cell_type": "markdown",
   "metadata": {
    "slideshow": {
     "slide_type": "slide"
    }
   },
   "source": [
    "## Mathematical Background and Prerequisites"
   ]
  },
  {
   "cell_type": "markdown",
   "metadata": {
    "slideshow": {
     "slide_type": "slide"
    }
   },
   "source": [
    "**Basic logic.** It is expected that the reader is familiar with the basic concepts of mathematical logic, including formulas, predicates, relational operators, and terms.\n",
    "\n",
    "**Basic set theory.** It is expected that the reader is familiar with the notion of a set (both finite and infinite), set size, and set comprehension notation (e.g., $\\{1,2,3,4\\}$ is a set and $\\{x \\ | \\ x \\in \\mathbb{Z}, x > 0 \\} = \\{1, 2, 3, ...\\}$). Is it also expected that the reader is familiar with the membership and subset relations between elements and sets, (e.g., $1 \\in \\{1,2,3\\}$ and $\\{2,3\\} \\subset \\{1,2,3\\}$). \n"
   ]
  },
  {
   "cell_type": "markdown",
   "metadata": {
    "slideshow": {
     "slide_type": "slide"
    }
   },
   "source": [
    "## Defining Programming Languages"
   ]
  },
  {
   "cell_type": "markdown",
   "metadata": {
    "slideshow": {
     "slide_type": "fragment"
    }
   },
   "source": [
    "In order to define and reason about programming languages, and in order to write automated tools and algorithms that can operate on programs written using programming languagues, we must be able to define formally (i.e., mathematically) what is a programming language and what is a program."
   ]
  },
  {
   "cell_type": "markdown",
   "metadata": {
    "slideshow": {
     "slide_type": "slide"
    }
   },
   "source": [
    "### Sets of Character Strings"
   ]
  },
  {
   "cell_type": "markdown",
   "metadata": {
    "slideshow": {
     "slide_type": "fragment"
    }
   },
   "source": [
    "In computer science, one common way to mathematically model a formal language is to introduce a finite set of symbols (an *alphabet*). A *language* is then any subset of the set of all strings consisting of symbols from that alphabet."
   ]
  },
  {
   "cell_type": "markdown",
   "metadata": {
    "slideshow": {
     "slide_type": "slide"
    }
   },
   "source": [
    "### Sets of Token Sequences"
   ]
  },
  {
   "cell_type": "markdown",
   "metadata": {
    "slideshow": {
     "slide_type": "fragment"
    }
   },
   "source": [
    "Unlike human languagues, programming languages usually have a relatively small collection of symbol strings (e.g., commands or instructions) that are used to construct programs. Thus, we can adjust the definition of what constitutes a language to account for this."
   ]
  },
  {
   "cell_type": "markdown",
   "metadata": {
    "slideshow": {
     "slide_type": "fragment"
    }
   },
   "source": [
    "If a language is just a subset of the set of all possible token sequences, how do we mathematically specify interesting subsets?"
   ]
  },
  {
   "cell_type": "markdown",
   "metadata": {
    "slideshow": {
     "slide_type": "slide"
    }
   },
   "source": [
    "### Formal Tools for Defining Languages"
   ]
  },
  {
   "cell_type": "markdown",
   "metadata": {
    "slideshow": {
     "slide_type": "fragment"
    }
   },
   "source": [
    "A variety of formal tools and techniques exist within computer science and mathematics to formally define, identify, or delineate interesting subsets of the set of all strings. These range in their expressive power from [regular expressions](https://en.wikipedia.org/wiki/Regular_expression) (or, equivalently, [finite state automata](https://en.wikipedia.org/wiki/Finite-state_machine)) to [Turing machines](https://en.wikipedia.org/wiki/Turing_machine). A full review of these techniques is beyond the scope of this course."
   ]
  },
  {
   "cell_type": "markdown",
   "metadata": {
    "slideshow": {
     "slide_type": "fragment"
    }
   },
   "source": [
    "In these notes, we will focus on a common formal technique for defining languages that has been adopted by the creators of programming languages: [context-free grammars](https://en.wikipedia.org/wiki/Context-free_grammar) (CFGs). While CFGs are not the most powerful formal tool for defining languages, they are sufficient to define the kinds of recursive language patterns found in programming languages that are used in practice. The most common representation for such grammars is [Backus-Naur Form](https://en.wikipedia.org/wiki/Backus%E2%80%93Naur_form), abbreviated henceforward as BNF."
   ]
  },
  {
   "cell_type": "markdown",
   "metadata": {
    "slideshow": {
     "slide_type": "fragment"
    }
   },
   "source": [
    "The production rules in a grammar's BNF representation can be viewed both as a way to construct an element (i.e., a token sequence that is a program) in the language, or as a way to break down (i.e., *parse*) a token sequence piece by piece until nothing is left."
   ]
  },
  {
   "cell_type": "markdown",
   "metadata": {
    "slideshow": {
     "slide_type": "slide"
    }
   },
   "source": [
    "## Parsing, Abstract Syntax, and Abstract Syntax Trees"
   ]
  },
  {
   "cell_type": "markdown",
   "metadata": {
    "slideshow": {
     "slide_type": "fragment"
    }
   },
   "source": [
    "Given a programming language definition, we want to have the ability to operate on programs written in that language using an automated process. To do so, we need to convert the character string representations of programs in that programming language (i.e., the concrete syntax representation) into instances of a data structure; each data structure instance would then be a representation of a program in that language as data on which we can operate."
   ]
  },
  {
   "cell_type": "markdown",
   "metadata": {
    "slideshow": {
     "slide_type": "slide"
    }
   },
   "source": [
    "### Abstract Syntax"
   ]
  },
  {
   "cell_type": "markdown",
   "metadata": {
    "slideshow": {
     "slide_type": "slide"
    }
   },
   "source": [
    "### Parsing Python using Python"
   ]
  },
  {
   "cell_type": "markdown",
   "metadata": {
    "slideshow": {
     "slide_type": "fragment"
    }
   },
   "source": [
    "The [`ast`](https://docs.python.org/3/library/ast.html) module in Python provides an abstract syntax data structure, as well as associated functionalities (such as parsing a concrete syntax instance into an AST and performing transformations on an AST)."
   ]
  },
  {
   "cell_type": "code",
   "execution_count": 74,
   "metadata": {
    "slideshow": {
     "slide_type": "fragment"
    }
   },
   "outputs": [
    {
     "data": {
      "text/plain": [
       "'UnaryOp(op=USub(), operand=Num(n=5))'"
      ]
     },
     "execution_count": 74,
     "metadata": {},
     "output_type": "execute_result"
    }
   ],
   "source": [
    "import ast\n",
    "\n",
    "# Programmatically build an AST for the\n",
    "# Python concrete syntax expression `-5`.\n",
    "node =\\\n",
    "  ast.UnaryOp(\n",
    "    ast.USub(),\n",
    "    ast.Num(5, lineno=0, col_offset=0),\n",
    "    lineno=0,\n",
    "    col_offset=0\n",
    "  )\n",
    "\n",
    "ast.dump(node)"
   ]
  },
  {
   "cell_type": "markdown",
   "metadata": {
    "slideshow": {
     "slide_type": "fragment"
    }
   },
   "source": [
    "We can use the [`inspect`](https://docs.python.org/3/library/inspect.html) module to retrieve the concrete syntax of the body of a Python function definition."
   ]
  },
  {
   "cell_type": "code",
   "execution_count": 75,
   "metadata": {
    "slideshow": {
     "slide_type": "fragment"
    }
   },
   "outputs": [
    {
     "data": {
      "text/plain": [
       "'def f(x):\\n    return x + 2\\n'"
      ]
     },
     "execution_count": 75,
     "metadata": {},
     "output_type": "execute_result"
    }
   ],
   "source": [
    "def f(x):\n",
    "    return x + 2\n",
    "\n",
    "import inspect\n",
    "inspect.getsource(f)"
   ]
  },
  {
   "cell_type": "markdown",
   "metadata": {
    "slideshow": {
     "slide_type": "fragment"
    }
   },
   "source": [
    "This is the end of the document."
   ]
  }
 ],
 "metadata": {
  "anaconda-cloud": {},
  "celltoolbar": "Slideshow",
  "kernelspec": {
   "display_name": "Python 3",
   "language": "python",
   "name": "python3"
  },
  "language_info": {
   "codemirror_mode": {
    "name": "ipython",
    "version": 3
   },
   "file_extension": ".py",
   "mimetype": "text/x-python",
   "name": "python",
   "nbconvert_exporter": "python",
   "pygments_lexer": "ipython3",
   "version": "3.6.4"
  },
  "livereveal": {
   "scroll": true
  }
 },
 "nbformat": 4,
 "nbformat_minor": 1
}
