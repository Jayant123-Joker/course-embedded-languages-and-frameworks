{
 "cells": [
  {
   "cell_type": "markdown",
   "metadata": {
    "slideshow": {
     "slide_type": "fragment"
    }
   },
   "source": [
    "# More on Type Systems and Operational Semantics"
   ]
  },
  {
   "cell_type": "markdown",
   "metadata": {
    "slideshow": {
     "slide_type": "fragment"
    }
   },
   "source": [
    "These notes explore in greater depth how the type system and operational semantics of a host language can allow us to add features to an embedded language."
   ]
  },
  {
   "cell_type": "markdown",
   "metadata": {
    "slideshow": {
     "slide_type": "slide"
    }
   },
   "source": [
    "## Dependencies"
   ]
  },
  {
   "cell_type": "code",
   "execution_count": 10,
   "metadata": {
    "slideshow": {
     "slide_type": "skip"
    }
   },
   "outputs": [],
   "source": [
    "# Presentation dependencies.\n",
    "%matplotlib inline\n",
    "%config InlineBackend.figure_format='retina'\n",
    "import matplotlib as mp\n",
    "import matplotlib.pyplot as plt\n",
    "from importlib import reload\n",
    "from IPython.display import Image\n",
    "from IPython.display import display_html\n",
    "from IPython.display import display\n",
    "from IPython.display import Math\n",
    "from IPython.display import Latex\n",
    "from IPython.display import HTML"
   ]
  },
  {
   "cell_type": "markdown",
   "metadata": {
    "slideshow": {
     "slide_type": "slide"
    }
   },
   "source": [
    "## Working with Types in a Host Language (Python)"
   ]
  },
  {
   "cell_type": "markdown",
   "metadata": {
    "slideshow": {
     "slide_type": "slide"
    }
   },
   "source": [
    "More information on the Python `typing` module can be found in its [documentation page](https://docs.python.org/3/library/typing.html). Note that while there is a built-in and endorsed way to *represent* types (i.e., abstract syntax trees for the language of Python types), there are no native, default, or \"official\" features for performing *type checking* on Python code."
   ]
  },
  {
   "cell_type": "code",
   "execution_count": 2,
   "metadata": {
    "slideshow": {
     "slide_type": "fragment"
    }
   },
   "outputs": [
    {
     "name": "stdout",
     "output_type": "stream",
     "text": [
      "246\n",
      "abcabc\n"
     ]
    }
   ],
   "source": [
    "# The typing module is included by default in Python 3.5 and higher.\n",
    "\n",
    "def f(x: int) -> int:\n",
    "    return x + x\n",
    "\n",
    "print(f(123)) # No actual static or dynamic checking.\n",
    "print(f('abc')) # No actual static or dynamic checking."
   ]
  },
  {
   "cell_type": "markdown",
   "metadata": {
    "slideshow": {
     "slide_type": "slide"
    }
   },
   "source": [
    "The [mypy library](http://www.mypy-lang.org/) can annotate Python code with types, type-check a program statically (without running it), or introduce dynamic (i.e., at runtime) type checking."
   ]
  },
  {
   "cell_type": "markdown",
   "metadata": {
    "slideshow": {
     "slide_type": "slide"
    }
   },
   "source": [
    "Other community members have written libraries to perform type checking (such as [enforce](https://github.com/RussBaz/enforce)), but none are \"official\" and some appear to be dormant as of 2019."
   ]
  },
  {
   "cell_type": "code",
   "execution_count": 11,
   "metadata": {
    "slideshow": {
     "slide_type": "fragment"
    }
   },
   "outputs": [
    {
     "name": "stdout",
     "output_type": "stream",
     "text": [
      "A type error occurred.\n"
     ]
    }
   ],
   "source": [
    "from enforce import runtime_validation\n",
    "\n",
    "@runtime_validation\n",
    "def g(x: int) -> int:\n",
    "    return 2 * x\n",
    "\n",
    "try:\n",
    "    g('abc')\n",
    "except:\n",
    "    print(\"A type error occurred.\")"
   ]
  },
  {
   "cell_type": "markdown",
   "metadata": {
    "slideshow": {
     "slide_type": "slide"
    }
   },
   "source": [
    "We present some additional examples below."
   ]
  },
  {
   "cell_type": "code",
   "execution_count": 8,
   "metadata": {
    "slideshow": {
     "slide_type": "fragment"
    }
   },
   "outputs": [
    {
     "name": "stdout",
     "output_type": "stream",
     "text": [
      "xyzxyzxyz\n"
     ]
    }
   ],
   "source": [
    "from typing import Dict, Tuple, Sequence\n",
    "\n",
    "def repeat(si: Tuple[str, int]) -> str:\n",
    "    (s, i) = si\n",
    "    return s * i\n",
    "\n",
    "print(repeat(('xyz', 3)))"
   ]
  },
  {
   "cell_type": "code",
   "execution_count": 7,
   "metadata": {
    "slideshow": {
     "slide_type": "fragment"
    }
   },
   "outputs": [
    {
     "name": "stdout",
     "output_type": "stream",
     "text": [
      "True\n",
      "False\n",
      "False\n"
     ]
    }
   ],
   "source": [
    "from typing import NewType\n",
    "\n",
    "UserName = NewType('UserName', str)\n",
    "\n",
    "def confirm(s: UserName) -> bool:\n",
    "    return s == 'Alice'\n",
    "\n",
    "print(confirm('Alice'))\n",
    "print(confirm('Bob'))\n",
    "print(confirm(123)) # No type checking by default."
   ]
  },
  {
   "cell_type": "code",
   "execution_count": 6,
   "metadata": {
    "slideshow": {
     "slide_type": "fragment"
    }
   },
   "outputs": [
    {
     "data": {
      "text/plain": [
       "'a'"
      ]
     },
     "execution_count": 6,
     "metadata": {},
     "output_type": "execute_result"
    }
   ],
   "source": [
    "from typing import Sequence, TypeVar, Union\n",
    "\n",
    "T = TypeVar('T')\n",
    "S = Union[int, str]\n",
    "\n",
    "def first(xs: Sequence[T]) -> T:\n",
    "    return xs[0]\n",
    "\n",
    "first([1,2,3])\n",
    "first(['a', 'b', 'c'])"
   ]
  },
  {
   "cell_type": "markdown",
   "metadata": {
    "slideshow": {
     "slide_type": "slide"
    }
   },
   "source": [
    "## Polymorphism"
   ]
  },
  {
   "cell_type": "markdown",
   "metadata": {
    "slideshow": {
     "slide_type": "slide"
    }
   },
   "source": [
    "There are at least two distinct types of polymorphism: *parametric polymorphism* and *ad hoc polymorphism*.\n",
    "\n",
    "Operator overloading is an example of ad hoc polymorphism."
   ]
  },
  {
   "cell_type": "markdown",
   "metadata": {
    "slideshow": {
     "slide_type": "slide"
    }
   },
   "source": [
    "### Ad Hoc Polymorphism in Python"
   ]
  },
  {
   "cell_type": "markdown",
   "metadata": {
    "slideshow": {
     "slide_type": "slide"
    }
   },
   "source": [
    "In the example below, we use Python's support for ad hoc polymorphism via operator overloading to create a new data structure. In this way, we can define our own semantics for built-in Python operators (and other constructs, such as the indexing notation in expressions such as `example[index]`) when those operators are applied to instances of our data structure. "
   ]
  },
  {
   "cell_type": "code",
   "execution_count": 12,
   "metadata": {
    "slideshow": {
     "slide_type": "fragment"
    }
   },
   "outputs": [
    {
     "name": "stdout",
     "output_type": "stream",
     "text": [
      "Zoo('Giraffe', 'Zebra', 'Giraffe')\n",
      "False\n",
      "True\n",
      "False\n",
      "Zoo('Giraffe', 'Lion')\n"
     ]
    }
   ],
   "source": [
    "class Zoo():\n",
    "    def __init__(self, *animals):\n",
    "        self.animals = animals\n",
    "    \n",
    "    def __hash__(self):\n",
    "        return hash(\"constant\")\n",
    "    \n",
    "    def __add__(self, other):\n",
    "        return Zoo(*(self.animals + other.animals))\n",
    "\n",
    "    def __lt__(self, other):\n",
    "        return set(self.animals).issubset(set(other.animals))\n",
    "\n",
    "    def __getitem__(self, animal):\n",
    "        return animal in self.animals\n",
    "\n",
    "    def __call__(self, animal):\n",
    "        self.animals += tuple([animal])\n",
    "\n",
    "    def __len__(self):\n",
    "        return len(self.animals)\n",
    "    \n",
    "    def __str__(self):\n",
    "        return \"Zoo\" + str(self.animals)\n",
    "\n",
    "    def __repr__(self):\n",
    "        return str(self)\n",
    "    \n",
    "    def __matmul__(self, other):\n",
    "        return Zoo(*(tuple(set(self.animals) - set(other.animals))))\n",
    "    \n",
    "z1 = Zoo(\"Giraffe\")\n",
    "z2 = Zoo(\"Zebra\", \"Giraffe\")\n",
    "print(z1 + z2)\n",
    "print(z2 < z1)\n",
    "print(z1[\"Giraffe\"])\n",
    "print(z1[\"Zebra\"])\n",
    "z1(\"Lion\")\n",
    "print(z1)"
   ]
  },
  {
   "cell_type": "markdown",
   "metadata": {
    "slideshow": {
     "slide_type": "slide"
    }
   },
   "source": [
    "This is the end of the document."
   ]
  }
 ],
 "metadata": {
  "anaconda-cloud": {},
  "celltoolbar": "Slideshow",
  "kernelspec": {
   "display_name": "Python 3",
   "language": "python",
   "name": "python3"
  },
  "language_info": {
   "codemirror_mode": {
    "name": "ipython",
    "version": 3
   },
   "file_extension": ".py",
   "mimetype": "text/x-python",
   "name": "python",
   "nbconvert_exporter": "python",
   "pygments_lexer": "ipython3",
   "version": "3.6.4"
  },
  "livereveal": {
   "scroll": true
  }
 },
 "nbformat": 4,
 "nbformat_minor": 1
}
