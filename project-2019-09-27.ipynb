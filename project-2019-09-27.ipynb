{
 "cells": [
  {
   "cell_type": "markdown",
   "metadata": {},
   "source": [
    "#  <span style=\"text-decoration:underline;\">Project 1</span>: Practice with Embedded Languages"
   ]
  },
  {
   "cell_type": "markdown",
   "metadata": {},
   "source": [
    "## Introduction "
   ]
  },
  {
   "cell_type": "markdown",
   "metadata": {},
   "source": [
    "The purpose of this project is to become familiar with concepts and techniques associated with embedded languages: concrete and abstract syntaxes, parsing within a host language, semantics, transformations, and static analysis."
   ]
  },
  {
   "cell_type": "markdown",
   "metadata": {},
   "source": [
    "## Submission "
   ]
  },
  {
   "cell_type": "markdown",
   "metadata": {},
   "source": [
    "Please send by email to lapets@bu.edu a link to the GitHub repository for your project. Ensure that the GitHub account `lapets` has the appropriate permissions to view and clone your repository."
   ]
  },
  {
   "cell_type": "markdown",
   "metadata": {},
   "source": [
    "## Description"
   ]
  },
  {
   "cell_type": "markdown",
   "metadata": {},
   "source": [
    "**Goals**\n",
    "\n",
    "The goal of this project is to choose an existing library, framework, or collection of language features within a popular programming language (such as Python or JavaScript), to identify a subset of the programming language that includes these features as an embedded language, and to implement multiple components that act as useful features for a programmer interested in using this embedded language for some purpose."
   ]
  },
  {
   "cell_type": "markdown",
   "metadata": {},
   "source": [
    "## Requirements"
   ]
  },
  {
   "cell_type": "markdown",
   "metadata": {},
   "source": [
    "**Organization and Documentation**\n",
    "* Include a README file within the root directory of your submission.\n",
    "* Include in the README a one-paragraph overview (5-7 sentences at least) describing the goal of your project and your approach. Include references to relevant concepts and terminology from the course as appropriate when describing your project."
   ]
  },
  {
   "cell_type": "markdown",
   "metadata": {},
   "source": [
    "**Technical Requirements**\n",
    "1. Identify and define using BNF notation the subset of the host language syntax corresponding to the embedded language that you will be processing, analyzing, or transforming.\n",
    "  * The language should contain at least 10-20 constructs.\n",
    "  * The language should support some family of methods or operators that can appear in expressions (also 10-20).\n",
    "2. Implement a way to automatically check that a module or function that represents a program within the embedded language conforms to the syntax of the language.\n",
    "3. Implement two analyses and transformations on programs within the embedded language."
   ]
  },
  {
   "cell_type": "markdown",
   "metadata": {},
   "source": [
    "This is the end of the document."
   ]
  }
 ],
 "metadata": {
  "anaconda-cloud": {},
  "kernelspec": {
   "display_name": "Python 3",
   "language": "python",
   "name": "python3"
  },
  "language_info": {
   "codemirror_mode": {
    "name": "ipython",
    "version": 3
   },
   "file_extension": ".py",
   "mimetype": "text/x-python",
   "name": "python",
   "nbconvert_exporter": "python",
   "pygments_lexer": "ipython3",
   "version": "3.6.4"
  }
 },
 "nbformat": 4,
 "nbformat_minor": 1
}
